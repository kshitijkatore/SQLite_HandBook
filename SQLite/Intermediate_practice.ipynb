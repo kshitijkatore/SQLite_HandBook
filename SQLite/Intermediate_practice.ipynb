{
 "cells": [
  {
   "cell_type": "code",
   "execution_count": 2,
   "id": "5a55e132",
   "metadata": {},
   "outputs": [],
   "source": [
    "import sqlite3"
   ]
  },
  {
   "cell_type": "code",
   "execution_count": 3,
   "id": "48c0ed11",
   "metadata": {},
   "outputs": [],
   "source": [
    "connection = sqlite3.connect('students.db')\n",
    "cursor = connection.cursor()\n",
    "\n",
    "# Create table\n",
    "cursor.execute('''\n",
    "CREATE TABLE IF NOT EXISTS students(\n",
    "    id INTEGER PRIMARY KEY AUTOINCREMENT,\n",
    "    name TEXT NOT NULL,\n",
    "    age INTEGER,\n",
    "    grade TEXT\n",
    ")\n",
    "''')\n",
    "\n",
    "connection.commit()"
   ]
  },
  {
   "cell_type": "code",
   "execution_count": 4,
   "id": "3ebdbf86",
   "metadata": {},
   "outputs": [],
   "source": [
    "## Insert a single row\n",
    "cursor.execute(\"INSERT INTO students (name, age, grade) VALUES (?, ?, ?)\", (\"Alice\", 20, \"A\"))\n",
    "connection.commit()\n"
   ]
  },
  {
   "cell_type": "code",
   "execution_count": 5,
   "id": "54b5d3df",
   "metadata": {},
   "outputs": [],
   "source": [
    "## Insert multiple rows\n",
    "students = [('Bob',21,'B'),('Charlie',22,'A'),('Dausy',19,'C')]\n",
    "cursor.executemany(\"INSERT INTO students (name,age,grade) VALUES (?,?,?)\",students)\n",
    "connection.commit()"
   ]
  },
  {
   "cell_type": "code",
   "execution_count": 6,
   "id": "5cb3af3a",
   "metadata": {},
   "outputs": [
    {
     "name": "stdout",
     "output_type": "stream",
     "text": [
      "(1, 'Alice', 20, 'B+')\n",
      "(2, 'Bob', 21, 'B')\n",
      "(4, 'Dausy', 19, 'C')\n",
      "(5, 'EVA', 23, 'A')\n",
      "(6, 'Ravi', 21, 'B')\n",
      "(7, 'Sneha', 20, 'C')\n",
      "(8, 'Zoya', 19, 'A')\n",
      "(9, 'Ravi', 21, 'B')\n",
      "(10, 'Sneha', 20, 'C')\n",
      "(11, 'Zoya', 19, 'A')\n",
      "(12, 'EVA', 23, 'A')\n",
      "(13, 'Ravi', 21, 'B')\n",
      "(14, 'Sneha', 20, 'C')\n",
      "(15, 'Zoya', 19, 'A')\n",
      "(16, 'Ravi', 21, 'B')\n",
      "(17, 'Sneha', 20, 'C')\n",
      "(18, 'Zoya', 19, 'A')\n",
      "(19, 'Ravi', 21, 'B')\n",
      "(20, 'Sneha', 20, 'C')\n",
      "(21, 'Zoya', 19, 'A')\n",
      "(22, 'Alice', 20, 'A')\n",
      "(23, 'Bob', 21, 'B')\n",
      "(24, 'Charlie', 22, 'A')\n",
      "(25, 'Dausy', 19, 'C')\n"
     ]
    }
   ],
   "source": [
    "## Read Data (SELECT)\n",
    "\n",
    "cursor.execute(\"SELECT * FROM students\")\n",
    "rows = cursor.fetchall()\n",
    "for row in rows:\n",
    "    print(row)"
   ]
  },
  {
   "cell_type": "code",
   "execution_count": 7,
   "id": "ccbd70f9",
   "metadata": {},
   "outputs": [
    {
     "name": "stdout",
     "output_type": "stream",
     "text": [
      "[(1, 'Alice', 20, 'B+'), (2, 'Bob', 21, 'B'), (4, 'Dausy', 19, 'C'), (5, 'EVA', 23, 'A'), (6, 'Ravi', 21, 'B'), (7, 'Sneha', 20, 'C'), (8, 'Zoya', 19, 'A'), (9, 'Ravi', 21, 'B'), (10, 'Sneha', 20, 'C'), (11, 'Zoya', 19, 'A'), (12, 'EVA', 23, 'A'), (13, 'Ravi', 21, 'B'), (14, 'Sneha', 20, 'C'), (15, 'Zoya', 19, 'A'), (16, 'Ravi', 21, 'B'), (17, 'Sneha', 20, 'C'), (18, 'Zoya', 19, 'A'), (19, 'Ravi', 21, 'B'), (20, 'Sneha', 20, 'C'), (21, 'Zoya', 19, 'A'), (22, 'Alice', 20, 'A'), (23, 'Bob', 21, 'B'), (24, 'Charlie', 22, 'A'), (25, 'Dausy', 19, 'C')]\n",
      "[(1, 'Alice', 20, 'B+'), (2, 'Bob', 21, 'B'), (4, 'Dausy', 19, 'C'), (5, 'EVA', 23, 'A'), (6, 'Ravi', 21, 'B'), (7, 'Sneha', 20, 'C'), (8, 'Zoya', 19, 'A'), (9, 'Ravi', 21, 'B'), (10, 'Sneha', 20, 'C'), (11, 'Zoya', 19, 'A'), (12, 'EVA', 23, 'A'), (13, 'Ravi', 21, 'B'), (14, 'Sneha', 20, 'C'), (15, 'Zoya', 19, 'A'), (16, 'Ravi', 21, 'B'), (17, 'Sneha', 20, 'C'), (18, 'Zoya', 19, 'A'), (19, 'Ravi', 21, 'B'), (20, 'Sneha', 20, 'C'), (21, 'Zoya', 19, 'A'), (22, 'Alice', 20, 'A'), (23, 'Bob', 21, 'B'), (24, 'Charlie', 22, 'A'), (25, 'Dausy', 19, 'C')]\n",
      "[(1, 'Alice', 20, 'B+'), (2, 'Bob', 21, 'B'), (4, 'Dausy', 19, 'C'), (5, 'EVA', 23, 'A'), (6, 'Ravi', 21, 'B'), (7, 'Sneha', 20, 'C'), (8, 'Zoya', 19, 'A'), (9, 'Ravi', 21, 'B'), (10, 'Sneha', 20, 'C'), (11, 'Zoya', 19, 'A'), (12, 'EVA', 23, 'A'), (13, 'Ravi', 21, 'B'), (14, 'Sneha', 20, 'C'), (15, 'Zoya', 19, 'A'), (16, 'Ravi', 21, 'B'), (17, 'Sneha', 20, 'C'), (18, 'Zoya', 19, 'A'), (19, 'Ravi', 21, 'B'), (20, 'Sneha', 20, 'C'), (21, 'Zoya', 19, 'A'), (22, 'Alice', 20, 'A'), (23, 'Bob', 21, 'B'), (24, 'Charlie', 22, 'A'), (25, 'Dausy', 19, 'C')]\n",
      "[(1, 'Alice', 20, 'B+'), (2, 'Bob', 21, 'B'), (4, 'Dausy', 19, 'C'), (5, 'EVA', 23, 'A'), (6, 'Ravi', 21, 'B'), (7, 'Sneha', 20, 'C'), (8, 'Zoya', 19, 'A'), (9, 'Ravi', 21, 'B'), (10, 'Sneha', 20, 'C'), (11, 'Zoya', 19, 'A'), (12, 'EVA', 23, 'A'), (13, 'Ravi', 21, 'B'), (14, 'Sneha', 20, 'C'), (15, 'Zoya', 19, 'A'), (16, 'Ravi', 21, 'B'), (17, 'Sneha', 20, 'C'), (18, 'Zoya', 19, 'A'), (19, 'Ravi', 21, 'B'), (20, 'Sneha', 20, 'C'), (21, 'Zoya', 19, 'A'), (22, 'Alice', 20, 'A'), (23, 'Bob', 21, 'B'), (24, 'Charlie', 22, 'A'), (25, 'Dausy', 19, 'C')]\n",
      "[(1, 'Alice', 20, 'B+'), (2, 'Bob', 21, 'B'), (4, 'Dausy', 19, 'C'), (5, 'EVA', 23, 'A'), (6, 'Ravi', 21, 'B'), (7, 'Sneha', 20, 'C'), (8, 'Zoya', 19, 'A'), (9, 'Ravi', 21, 'B'), (10, 'Sneha', 20, 'C'), (11, 'Zoya', 19, 'A'), (12, 'EVA', 23, 'A'), (13, 'Ravi', 21, 'B'), (14, 'Sneha', 20, 'C'), (15, 'Zoya', 19, 'A'), (16, 'Ravi', 21, 'B'), (17, 'Sneha', 20, 'C'), (18, 'Zoya', 19, 'A'), (19, 'Ravi', 21, 'B'), (20, 'Sneha', 20, 'C'), (21, 'Zoya', 19, 'A'), (22, 'Alice', 20, 'A'), (23, 'Bob', 21, 'B'), (24, 'Charlie', 22, 'A'), (25, 'Dausy', 19, 'C')]\n",
      "[(1, 'Alice', 20, 'B+'), (2, 'Bob', 21, 'B'), (4, 'Dausy', 19, 'C'), (5, 'EVA', 23, 'A'), (6, 'Ravi', 21, 'B'), (7, 'Sneha', 20, 'C'), (8, 'Zoya', 19, 'A'), (9, 'Ravi', 21, 'B'), (10, 'Sneha', 20, 'C'), (11, 'Zoya', 19, 'A'), (12, 'EVA', 23, 'A'), (13, 'Ravi', 21, 'B'), (14, 'Sneha', 20, 'C'), (15, 'Zoya', 19, 'A'), (16, 'Ravi', 21, 'B'), (17, 'Sneha', 20, 'C'), (18, 'Zoya', 19, 'A'), (19, 'Ravi', 21, 'B'), (20, 'Sneha', 20, 'C'), (21, 'Zoya', 19, 'A'), (22, 'Alice', 20, 'A'), (23, 'Bob', 21, 'B'), (24, 'Charlie', 22, 'A'), (25, 'Dausy', 19, 'C')]\n",
      "[(1, 'Alice', 20, 'B+'), (2, 'Bob', 21, 'B'), (4, 'Dausy', 19, 'C'), (5, 'EVA', 23, 'A'), (6, 'Ravi', 21, 'B'), (7, 'Sneha', 20, 'C'), (8, 'Zoya', 19, 'A'), (9, 'Ravi', 21, 'B'), (10, 'Sneha', 20, 'C'), (11, 'Zoya', 19, 'A'), (12, 'EVA', 23, 'A'), (13, 'Ravi', 21, 'B'), (14, 'Sneha', 20, 'C'), (15, 'Zoya', 19, 'A'), (16, 'Ravi', 21, 'B'), (17, 'Sneha', 20, 'C'), (18, 'Zoya', 19, 'A'), (19, 'Ravi', 21, 'B'), (20, 'Sneha', 20, 'C'), (21, 'Zoya', 19, 'A'), (22, 'Alice', 20, 'A'), (23, 'Bob', 21, 'B'), (24, 'Charlie', 22, 'A'), (25, 'Dausy', 19, 'C')]\n",
      "[(1, 'Alice', 20, 'B+'), (2, 'Bob', 21, 'B'), (4, 'Dausy', 19, 'C'), (5, 'EVA', 23, 'A'), (6, 'Ravi', 21, 'B'), (7, 'Sneha', 20, 'C'), (8, 'Zoya', 19, 'A'), (9, 'Ravi', 21, 'B'), (10, 'Sneha', 20, 'C'), (11, 'Zoya', 19, 'A'), (12, 'EVA', 23, 'A'), (13, 'Ravi', 21, 'B'), (14, 'Sneha', 20, 'C'), (15, 'Zoya', 19, 'A'), (16, 'Ravi', 21, 'B'), (17, 'Sneha', 20, 'C'), (18, 'Zoya', 19, 'A'), (19, 'Ravi', 21, 'B'), (20, 'Sneha', 20, 'C'), (21, 'Zoya', 19, 'A'), (22, 'Alice', 20, 'A'), (23, 'Bob', 21, 'B'), (24, 'Charlie', 22, 'A'), (25, 'Dausy', 19, 'C')]\n",
      "[(1, 'Alice', 20, 'B+'), (2, 'Bob', 21, 'B'), (4, 'Dausy', 19, 'C'), (5, 'EVA', 23, 'A'), (6, 'Ravi', 21, 'B'), (7, 'Sneha', 20, 'C'), (8, 'Zoya', 19, 'A'), (9, 'Ravi', 21, 'B'), (10, 'Sneha', 20, 'C'), (11, 'Zoya', 19, 'A'), (12, 'EVA', 23, 'A'), (13, 'Ravi', 21, 'B'), (14, 'Sneha', 20, 'C'), (15, 'Zoya', 19, 'A'), (16, 'Ravi', 21, 'B'), (17, 'Sneha', 20, 'C'), (18, 'Zoya', 19, 'A'), (19, 'Ravi', 21, 'B'), (20, 'Sneha', 20, 'C'), (21, 'Zoya', 19, 'A'), (22, 'Alice', 20, 'A'), (23, 'Bob', 21, 'B'), (24, 'Charlie', 22, 'A'), (25, 'Dausy', 19, 'C')]\n"
     ]
    }
   ],
   "source": [
    "## Fetch with filter\n",
    "\n",
    "cursor.execute(\"SELECT * FROM students WHERE grade ='A'\")\n",
    "for row in cursor.fetchall():\n",
    "    print(rows)"
   ]
  },
  {
   "cell_type": "code",
   "execution_count": 8,
   "id": "82f5c053",
   "metadata": {},
   "outputs": [],
   "source": [
    "# Update Date\n",
    "\n",
    "cursor.execute(\"UPDATE students SET grade = ? WHERE name= ?\", (\"B+\", \"Alice\"))\n",
    "connection.commit()"
   ]
  },
  {
   "cell_type": "code",
   "execution_count": 9,
   "id": "8a36d3d0",
   "metadata": {},
   "outputs": [],
   "source": [
    "rows = cursor.fetchall()\n",
    "for row in rows:\n",
    "    print(row)"
   ]
  },
  {
   "cell_type": "code",
   "execution_count": 10,
   "id": "fb221e28",
   "metadata": {},
   "outputs": [
    {
     "name": "stdout",
     "output_type": "stream",
     "text": [
      "(1, 'Alice', 20, 'B+')\n",
      "(2, 'Bob', 21, 'B')\n",
      "(4, 'Dausy', 19, 'C')\n",
      "(5, 'EVA', 23, 'A')\n",
      "(6, 'Ravi', 21, 'B')\n",
      "(7, 'Sneha', 20, 'C')\n",
      "(8, 'Zoya', 19, 'A')\n",
      "(9, 'Ravi', 21, 'B')\n",
      "(10, 'Sneha', 20, 'C')\n",
      "(11, 'Zoya', 19, 'A')\n",
      "(12, 'EVA', 23, 'A')\n",
      "(13, 'Ravi', 21, 'B')\n",
      "(14, 'Sneha', 20, 'C')\n",
      "(15, 'Zoya', 19, 'A')\n",
      "(16, 'Ravi', 21, 'B')\n",
      "(17, 'Sneha', 20, 'C')\n",
      "(18, 'Zoya', 19, 'A')\n",
      "(19, 'Ravi', 21, 'B')\n",
      "(20, 'Sneha', 20, 'C')\n",
      "(21, 'Zoya', 19, 'A')\n",
      "(22, 'Alice', 20, 'B+')\n",
      "(23, 'Bob', 21, 'B')\n",
      "(25, 'Dausy', 19, 'C')\n"
     ]
    }
   ],
   "source": [
    "# Delete the data\n",
    "cursor.execute(\"DELETE FROM students WHERE name =?\", (\"Charlie\",))\n",
    "connection.commit()\n",
    "\n",
    "cursor.execute(\"SELECT * FROM students\")\n",
    "connection.commit()\n",
    "rows = cursor.fetchall()\n",
    "for row in rows:\n",
    "    print(row)"
   ]
  },
  {
   "cell_type": "code",
   "execution_count": 31,
   "id": "988e0ebd",
   "metadata": {},
   "outputs": [],
   "source": [
    "cursor.execute(\"DELETE From students\")\n",
    "connection.commit()"
   ]
  },
  {
   "cell_type": "code",
   "execution_count": 32,
   "id": "2defbbc4",
   "metadata": {},
   "outputs": [],
   "source": [
    "connection.close()"
   ]
  },
  {
   "cell_type": "code",
   "execution_count": 33,
   "id": "65ee7bec",
   "metadata": {},
   "outputs": [],
   "source": [
    "connection = sqlite3.connect('students.db')\n",
    "cursor = connection.cursor()\n",
    "\n",
    "# Create table\n",
    "cursor.execute('''\n",
    "CREATE TABLE IF NOT EXISTS students(\n",
    "    id INTEGER PRIMARY KEY AUTOINCREMENT,\n",
    "    name TEXT NOT NULL,\n",
    "    age INTEGER,\n",
    "    grade TEXT\n",
    ")\n",
    "''')\n",
    "\n",
    "connection.commit()"
   ]
  },
  {
   "cell_type": "code",
   "execution_count": 34,
   "id": "7fdff52f",
   "metadata": {},
   "outputs": [],
   "source": [
    "cursor.execute('''\n",
    "INSERT INTO students ('name','age','grade')\n",
    "    VALUES('EVA',23,'A')\n",
    "''')\n",
    "connection.commit()"
   ]
  },
  {
   "cell_type": "code",
   "execution_count": 35,
   "id": "ecd9d713",
   "metadata": {},
   "outputs": [],
   "source": [
    "students = [(\"Ravi\",21,\"B\"),(\"Sneha\",20,\"C\"),(\"Zoya\",19,\"A\")]\n",
    "cursor.executemany(\"INSERT INTO students ('name','age','grade') VALUES(?,?,?)\",students)\n",
    "\n",
    "connection.commit()"
   ]
  },
  {
   "cell_type": "code",
   "execution_count": 13,
   "id": "fd466245",
   "metadata": {},
   "outputs": [
    {
     "name": "stdout",
     "output_type": "stream",
     "text": [
      "(1, 'Alice', 20, 'B+')\n",
      "(2, 'Bob', 21, 'B')\n",
      "(4, 'Dausy', 19, 'C')\n",
      "(5, 'EVA', 23, 'A')\n",
      "(6, 'Ravi', 21, 'B')\n",
      "(7, 'Sneha', 20, 'C')\n",
      "(8, 'Zoya', 19, 'A')\n",
      "(9, 'Ravi', 21, 'B')\n",
      "(10, 'Sneha', 20, 'C')\n",
      "(11, 'Zoya', 19, 'A')\n",
      "(12, 'EVA', 23, 'A')\n",
      "(13, 'Ravi', 21, 'B')\n",
      "(14, 'Sneha', 20, 'C')\n",
      "(15, 'Zoya', 19, 'A')\n",
      "(16, 'Ravi', 21, 'B')\n",
      "(17, 'Sneha', 20, 'C')\n",
      "(18, 'Zoya', 19, 'A')\n",
      "(19, 'Ravi', 21, 'B')\n",
      "(20, 'Sneha', 20, 'C')\n",
      "(21, 'Zoya', 19, 'A')\n",
      "(22, 'Alice', 20, 'B+')\n",
      "(23, 'Bob', 21, 'B')\n",
      "(25, 'Dausy', 19, 'C')\n",
      "(26, 'EVA', 23, 'A')\n",
      "(27, 'Ravi', 21, 'B')\n",
      "(28, 'Sneha', 20, 'C')\n",
      "(29, 'Zoya', 19, 'A')\n"
     ]
    }
   ],
   "source": [
    "cursor.execute(\"SELECT * FROM students\")\n",
    "connection.commit()\n",
    "\n",
    "for row in cursor.fetchall():\n",
    "    print(row)\n"
   ]
  },
  {
   "cell_type": "code",
   "execution_count": 36,
   "id": "f7a01e89",
   "metadata": {},
   "outputs": [
    {
     "name": "stdout",
     "output_type": "stream",
     "text": [
      "(37, 'Zoya', 19, 'A')\n",
      "(36, 'Sneha', 20, 'C')\n",
      "(35, 'Ravi', 21, 'B')\n",
      "(34, 'EVA', 23, 'A')\n"
     ]
    }
   ],
   "source": [
    "# Display all students sorted by age\n",
    "\n",
    "cursor.execute(\"SELECT * FROM students ORDER BY age ASC\")\n",
    "sort_students = cursor.fetchall()\n",
    "connection.commit()\n",
    "for stu in sort_students:\n",
    "    print(stu)"
   ]
  },
  {
   "cell_type": "code",
   "execution_count": 18,
   "id": "ca3d7bda",
   "metadata": {},
   "outputs": [
    {
     "name": "stdout",
     "output_type": "stream",
     "text": [
      "(1, 'Alice', 20, 'B+')\n",
      "(2, 'Bob', 21, 'B')\n",
      "(6, 'Ravi', 21, 'B')\n",
      "(9, 'Ravi', 21, 'B')\n",
      "(13, 'Ravi', 21, 'B')\n",
      "(16, 'Ravi', 21, 'B')\n",
      "(19, 'Ravi', 21, 'B')\n",
      "(22, 'Alice', 20, 'B+')\n",
      "(23, 'Bob', 21, 'B')\n",
      "(27, 'Ravi', 21, 'B')\n"
     ]
    }
   ],
   "source": [
    "cursor.execute(\"SELECT * FROM students WHERE grade IN (?,?)\", (\"B\", \"B+\"))\n",
    "connection.commit()\n",
    "rows = cursor.fetchall()\n",
    "for row in rows:\n",
    "    print(row)"
   ]
  },
  {
   "cell_type": "code",
   "execution_count": 37,
   "id": "cedd1845",
   "metadata": {},
   "outputs": [
    {
     "name": "stdout",
     "output_type": "stream",
     "text": [
      "(2,)\n"
     ]
    }
   ],
   "source": [
    "cursor.execute(\"SELECT COUNT(*) FROM students WHERE grade='A'\")\n",
    "connection.commit()\n",
    "\n",
    "rows = cursor.fetchall()\n",
    "for row in rows:\n",
    "    print(row)"
   ]
  },
  {
   "cell_type": "code",
   "execution_count": 23,
   "id": "198428c5",
   "metadata": {},
   "outputs": [
    {
     "name": "stdout",
     "output_type": "stream",
     "text": [
      "(7, 'Sneha', 20, 'C')\n",
      "(10, 'Sneha', 20, 'C')\n",
      "(14, 'Sneha', 20, 'C')\n",
      "(17, 'Sneha', 20, 'C')\n",
      "(20, 'Sneha', 20, 'C')\n",
      "(28, 'Sneha', 20, 'C')\n"
     ]
    }
   ],
   "source": [
    "# Get all students whose names start with the letter \"s\".\n",
    "\n",
    "cursor.execute(\"SELECT * FROM students WHERE name LIKE 's%'\")\n",
    "connection.commit()\n",
    "for row in cursor.fetchall():\n",
    "    print(row)"
   ]
  },
  {
   "cell_type": "code",
   "execution_count": 38,
   "id": "11cfb9a5",
   "metadata": {},
   "outputs": [],
   "source": [
    "cursor.execute(\"UPDATE students SET grade= ? WHERE name =?\", ('A+',\"Zoya\"))\n",
    "connection.commit()"
   ]
  },
  {
   "cell_type": "code",
   "execution_count": 41,
   "id": "6212642d",
   "metadata": {},
   "outputs": [],
   "source": [
    "cursor.execute(\"UPDATE students SET age =age+1\")\n",
    "connection.commit()"
   ]
  },
  {
   "cell_type": "code",
   "execution_count": 42,
   "id": "e29124ec",
   "metadata": {},
   "outputs": [
    {
     "name": "stdout",
     "output_type": "stream",
     "text": [
      "(34, 'EVA', 24, 'A')\n",
      "(35, 'Ravi', 22, 'B')\n",
      "(36, 'Sneha', 21, 'C')\n",
      "(37, 'Zoya', 20, 'A+')\n"
     ]
    }
   ],
   "source": [
    "cursor.execute(\"SELECT * FROM students\")\n",
    "\n",
    "for row in cursor.fetchall():\n",
    "    print(row)"
   ]
  },
  {
   "cell_type": "code",
   "execution_count": 46,
   "id": "7f165c32",
   "metadata": {},
   "outputs": [
    {
     "name": "stdout",
     "output_type": "stream",
     "text": [
      "34\n",
      "EVA\n",
      "24\n",
      "A\n"
     ]
    }
   ],
   "source": [
    "cursor.execute(\"SELECT * FROM students\")\n",
    "\n",
    "for row in cursor.fetchone():\n",
    "    print(row)"
   ]
  },
  {
   "cell_type": "code",
   "execution_count": 47,
   "id": "64934f02",
   "metadata": {},
   "outputs": [
    {
     "name": "stdout",
     "output_type": "stream",
     "text": [
      "(35, 'Ravi', 22, 'B')\n"
     ]
    }
   ],
   "source": [
    "for row in cursor.fetchmany():\n",
    "    print(row)"
   ]
  },
  {
   "cell_type": "code",
   "execution_count": 49,
   "id": "8a194897",
   "metadata": {},
   "outputs": [
    {
     "name": "stdout",
     "output_type": "stream",
     "text": [
      "(34, 'EVA', 24, 'A')\n",
      "(35, 'Ravi', 22, 'B')\n",
      "(36, 'Sneha', 21, 'C')\n"
     ]
    }
   ],
   "source": [
    "cursor.execute(\"SELECT * FROM students WHERE age >? OR grade= ?\", (20, \"A\"))\n",
    "connection.commit()\n",
    "\n",
    "for row in cursor.fetchall():\n",
    "    print(row)"
   ]
  },
  {
   "cell_type": "code",
   "execution_count": 52,
   "id": "e03bfad6",
   "metadata": {},
   "outputs": [
    {
     "name": "stdout",
     "output_type": "stream",
     "text": [
      "(37, 'Zoya', 20, 'A+')\n",
      "(36, 'Sneha', 21, 'C')\n",
      "(35, 'Ravi', 22, 'B')\n",
      "(34, 'EVA', 24, 'A')\n"
     ]
    }
   ],
   "source": [
    "cursor.execute(\"SELECT * FROM students WHERE age >=20 ORDER BY age ASC\")\n",
    "connection.commit()\n",
    "\n",
    "for row in cursor.fetchall():\n",
    "    print(row)"
   ]
  },
  {
   "cell_type": "code",
   "execution_count": 58,
   "id": "699e6542",
   "metadata": {},
   "outputs": [],
   "source": [
    "# Fetch students with grade \"A\" and age under 22.\n",
    "\n",
    "cursor.execute(\"SELECT * FROM students WHERE grade= ? AND age <=?\", ('A','22'))\n",
    "connection.commit()\n",
    "\n",
    "for row in cursor.fetchall():\n",
    "    print(row)"
   ]
  },
  {
   "cell_type": "code",
   "execution_count": 60,
   "id": "d1ab5bf8",
   "metadata": {},
   "outputs": [
    {
     "name": "stdout",
     "output_type": "stream",
     "text": [
      "(34, 'EVA', 24, 'A')\n",
      "(35, 'Ravi', 22, 'B')\n"
     ]
    }
   ],
   "source": [
    "# Find students whose grades are in (\"A\",\"B\", \"B+\")\n",
    "\n",
    "cursor.execute(\"SELECT * FROM students WHERE grade IN ('A','B','B+')\")\n",
    "connection.commit()\n",
    "\n",
    "for row in cursor.fetchall():\n",
    "    print(row)"
   ]
  },
  {
   "cell_type": "code",
   "execution_count": 62,
   "id": "5c66770b",
   "metadata": {},
   "outputs": [
    {
     "name": "stdout",
     "output_type": "stream",
     "text": [
      "(34, 'EVA', 24, 'A')\n",
      "(35, 'Ravi', 22, 'B')\n",
      "(37, 'Zoya', 20, 'A+')\n"
     ]
    }
   ],
   "source": [
    "cursor.execute(\"SELECT * FROM students WHERE grade NOT IN ('C','D')\")\n",
    "connection.commit()\n",
    "\n",
    "for row in cursor.fetchall():\n",
    "    print(row)"
   ]
  },
  {
   "cell_type": "code",
   "execution_count": 63,
   "id": "0e49f920",
   "metadata": {},
   "outputs": [
    {
     "name": "stdout",
     "output_type": "stream",
     "text": [
      "(36, 'Sneha', 21, 'C')\n"
     ]
    }
   ],
   "source": [
    "cursor.execute(\"SELECT * FROM students WHERE name LIKE 'S%'\")\n",
    "connection.commit()\n",
    "\n",
    "for row in cursor.fetchall():\n",
    "    print(row)"
   ]
  },
  {
   "cell_type": "code",
   "execution_count": 64,
   "id": "1f7a6701",
   "metadata": {},
   "outputs": [
    {
     "name": "stdout",
     "output_type": "stream",
     "text": [
      "(34, 'EVA', 24, 'A')\n",
      "(36, 'Sneha', 21, 'C')\n",
      "(37, 'Zoya', 20, 'A+')\n"
     ]
    }
   ],
   "source": [
    "cursor.execute(\"SELECT * FROM students WHERE name LIKE '%A' \")\n",
    "connection.commit()\n",
    "\n",
    "for row in cursor.fetchall():\n",
    "    print(row)"
   ]
  },
  {
   "cell_type": "code",
   "execution_count": 69,
   "id": "4210344e",
   "metadata": {},
   "outputs": [
    {
     "name": "stdout",
     "output_type": "stream",
     "text": [
      "(34, 'EVA', 24, 'A')\n",
      "(35, 'Ravi', 22, 'B')\n",
      "(36, 'Sneha', 21, 'C')\n"
     ]
    }
   ],
   "source": [
    "cursor.execute(\"SELECT * FROM students ORDER BY age DESC LIMIT 3\")\n",
    "connection.commit()\n",
    "\n",
    "for row in cursor.fetchall():\n",
    "    print(row)"
   ]
  },
  {
   "cell_type": "code",
   "execution_count": 72,
   "id": "86c5ee9e",
   "metadata": {},
   "outputs": [
    {
     "name": "stdout",
     "output_type": "stream",
     "text": [
      "(37, 'Zoya', 20, 'A+')\n",
      "(36, 'Sneha', 21, 'C')\n",
      "(35, 'Ravi', 22, 'B')\n",
      "(34, 'EVA', 24, 'A')\n"
     ]
    }
   ],
   "source": [
    "cursor.execute(\"SELECT * FROM students ORDER BY name DESC\")\n",
    "connection.commit()\n",
    "\n",
    "for row in cursor.fetchall():\n",
    "    print(row)"
   ]
  },
  {
   "cell_type": "code",
   "execution_count": null,
   "id": "3965ddcb",
   "metadata": {},
   "outputs": [],
   "source": [
    "## Prevent SQL Injection Using\n",
    "'''\n",
    "# Bad (vulnerable to SQL injection)\n",
    "cursor.execute(f\"SELECT * FROM students WHERE name ='{user_input}'\")\n",
    "\n",
    "# GOOD safe\n",
    "cursor.execute(\"SELECT * FROM students WHERE name = ?\", (user_input,))\n",
    "\n",
    "'''"
   ]
  },
  {
   "cell_type": "code",
   "execution_count": 77,
   "id": "7b8cf5f4",
   "metadata": {},
   "outputs": [],
   "source": [
    "with sqlite3.connect(\"student.db\") as connection:\n",
    "    cursor = connection.cursor()\n",
    "    cursor.execute('''\n",
    "    CREATE TABLE IF NOT EXISTS student (\n",
    "        id INTEGER PRIMARY KEY AUTOINCREMENT,\n",
    "        name TEXT,\n",
    "        age INTEGER,\n",
    "        grade TEXT\n",
    "    )\n",
    "    ''')\n",
    "    connection.commit()\n"
   ]
  },
  {
   "cell_type": "code",
   "execution_count": 79,
   "id": "f0ceaa7f",
   "metadata": {},
   "outputs": [
    {
     "name": "stdout",
     "output_type": "stream",
     "text": [
      "xitij inserted successfully.\n"
     ]
    }
   ],
   "source": [
    "import sqlite3\n",
    "\n",
    "def insert_student(name, age, grade):\n",
    "    with sqlite3.connect(\"student.db\") as connection:\n",
    "        cursor = connection.cursor()\n",
    "        cursor.execute(\"INSERT INTO student (name, age, grade) VALUES (?, ?, ?)\", (name, age, grade))\n",
    "        connection.commit()\n",
    "        print(f\"{name} inserted successfully.\")\n",
    "\n",
    "# Get input from user\n",
    "name = input(\"Enter student name: \")\n",
    "age = int(input(\"Enter age: \"))\n",
    "grade = input(\"Enter grade (A/B/C): \")\n",
    "\n",
    "insert_student(name, age, grade)\n"
   ]
  },
  {
   "cell_type": "code",
   "execution_count": null,
   "id": "cac45ef7",
   "metadata": {},
   "outputs": [],
   "source": []
  }
 ],
 "metadata": {
  "kernelspec": {
   "display_name": "Python 3",
   "language": "python",
   "name": "python3"
  },
  "language_info": {
   "codemirror_mode": {
    "name": "ipython",
    "version": 3
   },
   "file_extension": ".py",
   "mimetype": "text/x-python",
   "name": "python",
   "nbconvert_exporter": "python",
   "pygments_lexer": "ipython3",
   "version": "3.12.0"
  }
 },
 "nbformat": 4,
 "nbformat_minor": 5
}
